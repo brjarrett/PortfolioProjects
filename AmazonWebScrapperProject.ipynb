{
 "cells": [
  {
   "cell_type": "code",
   "execution_count": 23,
   "id": "f892fee5",
   "metadata": {},
   "outputs": [],
   "source": [
    "# load libraries\n",
    "\n",
    "from bs4 import BeautifulSoup\n",
    "import requests\n",
    "import smtplib\n",
    "import time\n",
    "import datetime\n",
    "import csv\n",
    "\n",
    "    "
   ]
  },
  {
   "cell_type": "code",
   "execution_count": 27,
   "id": "a452d5d0",
   "metadata": {},
   "outputs": [
    {
     "name": "stdout",
     "output_type": "stream",
     "text": [
      "Funny Got Data MIS Data Systems Business Analyst T-Shirt\n",
      "16.99\n",
      "2022-10-27\n"
     ]
    }
   ],
   "source": [
    "# Connect to website (this should be static page)\n",
    "\n",
    "URL = 'https://www.amazon.com/Funny-Data-Systems-Business-Analyst/dp/B07FNW9FGJ/ref=sr_1_9?crid=198UHNX324P4A&keywords=data+analyst+tshirt&qid=1666878135&qu=eyJxc2MiOiI0LjgzIiwicXNhIjoiMy45NyIsInFzcCI6IjIuOTMifQ%3D%3D&sprefix=data+analyst+tshirt%2Caps%2C100&sr=8-9'\n",
    "\n",
    "# get header information for computer, type httpbin.org/get into web browser and a couple other file readers for java/json\n",
    "headers = {\"User-Agent\": \"Mozilla/5.0 (Windows NT 10.0; Win64; x64) AppleWebKit/537.36 (KHTML, like Gecko) Chrome/106.0.0.0 Safari/537.36\", \"Accept-Encoding\":\"gzip, deflate\", \"Accept\":\"text/html,application/xhtml+xml,application/xml;q=0.9,*/*;q=0.8\", \"DNT\":\"1\",\"Connection\":\"close\", \"Upgrade-Insecure-Requests\":\"1\"}\n",
    "\n",
    "#start pulling data\n",
    "\n",
    "page = requests.get(URL, headers = headers)\n",
    "\n",
    "soup1 = BeautifulSoup(page.content, \"html.parser\")\n",
    "\n",
    "# look at initial data pull (html format, inspect webpage to see this code)\n",
    "# print(soup1)\n",
    "\n",
    "# format the html, make it 'pretty'\n",
    "\n",
    "soup2 = BeautifulSoup(soup1.prettify(), \"html.parser\")\n",
    "\n",
    "# print(soup2)\n",
    "\n",
    "# now get data of interest, go to webpage and inpect code, right click inpsect, or ctrl + shift + i)\n",
    "# note, use the strip() function to get rid of white space\n",
    "\n",
    "title = soup2.find(id='productTitle').get_text().strip()\n",
    "\n",
    "# print(title)\n",
    "\n",
    "# finding price on Amazon has changed, it used to be id=\"priceblock_ourprice\" but October 2022 \n",
    "# is now class=\"a-offscreen\" and because class is a funcion (?) in python need to have code as \n",
    "# class_ (underscore after class)\n",
    "# use to strip to remoe whitespace and to remove $ sign, [1:] will take everything from 1st position onward\n",
    "\n",
    "price = soup2.find(class_ = 'a-offscreen').get_text()\n",
    "price = price.strip()[1:]\n",
    "\n",
    "#price = soup2.xpath('//span[@class=\"a-offscreen\"]/text()')[0]\n",
    "#price = price.replace(',', '').replace('₹', '').replace('.00', '')\n",
    "\n",
    "print(title)\n",
    "print(price)\n",
    "\n",
    "# put a time stamp on when data was collected\n",
    "\n",
    "today = datetime.date.today()\n",
    "\n",
    "print(today)\n",
    "\n",
    "\n"
   ]
  },
  {
   "cell_type": "code",
   "execution_count": 28,
   "id": "e537caf8",
   "metadata": {},
   "outputs": [],
   "source": [
    "# make CSV file to put data into\n",
    "\n",
    "header = ['ProductTitle', 'Price', 'CollectionDate']\n",
    "data = [title, price, today]\n",
    "\n",
    "# check datatype, csv is a list (price is a string)\n",
    "type(data)\n",
    "\n",
    "# 'w' means write  \n",
    "# comment these next 4 lines out if you want to restart (say after computer restart) the script if you have running in background\n",
    "with open('AmazonWebScraperDataset.csv', 'w', newline='', encoding='UTF8') as f:\n",
    "    writer = csv.writer(f)\n",
    "    writer.writerow(header) # intitial insertion of data into csv\n",
    "    writer.writerow(data) # now insert data"
   ]
  },
  {
   "cell_type": "code",
   "execution_count": 29,
   "id": "00509d54",
   "metadata": {},
   "outputs": [
    {
     "name": "stdout",
     "output_type": "stream",
     "text": [
      "                                        ProductTitle  Price CollectionDate\n",
      "0  Funny Got Data MIS Data Systems Business Analy...  16.99     2022-10-27\n"
     ]
    }
   ],
   "source": [
    "# use Pandas to check data was inserted into csv file correctly\n",
    "\n",
    "import pandas as pd\n",
    "\n",
    "df = pd.read_csv(r'C:\\Users\\benja\\AmazonWebScraperDataset.csv')\n",
    "\n",
    "print(df)"
   ]
  },
  {
   "cell_type": "code",
   "execution_count": null,
   "id": "d4ff398d",
   "metadata": {},
   "outputs": [],
   "source": [
    "# append data to the csv file (price tracker over time); 'a+' appends the csv/dataset\n",
    "\n",
    "with open('AmazonWebScraperDataset.csv', 'a+', newline='', encoding='UTF8') as f:\n",
    "    writer = csv.writer(f)\n",
    "    writer.writerow(data) # now insert data"
   ]
  },
  {
   "cell_type": "code",
   "execution_count": 30,
   "id": "857b8cc6",
   "metadata": {},
   "outputs": [],
   "source": [
    "# automate\n",
    "\n",
    "def check_price():\n",
    "    URL = 'https://www.amazon.com/Funny-Data-Systems-Business-Analyst/dp/B07FNW9FGJ/ref=sr_1_9?crid=198UHNX324P4A&keywords=data+analyst+tshirt&qid=1666878135&qu=eyJxc2MiOiI0LjgzIiwicXNhIjoiMy45NyIsInFzcCI6IjIuOTMifQ%3D%3D&sprefix=data+analyst+tshirt%2Caps%2C100&sr=8-9'\n",
    "\n",
    "    headers = {\"User-Agent\": \"Mozilla/5.0 (Windows NT 10.0; Win64; x64) AppleWebKit/537.36 (KHTML, like Gecko) Chrome/106.0.0.0 Safari/537.36\", \"Accept-Encoding\":\"gzip, deflate\", \"Accept\":\"text/html,application/xhtml+xml,application/xml;q=0.9,*/*;q=0.8\", \"DNT\":\"1\",\"Connection\":\"close\", \"Upgrade-Insecure-Requests\":\"1\"}\n",
    "\n",
    "    page = requests.get(URL, headers = headers)\n",
    "\n",
    "    soup1 = BeautifulSoup(page.content, \"html.parser\")\n",
    "\n",
    "    soup2 = BeautifulSoup(soup1.prettify(), \"html.parser\")\n",
    "\n",
    "    title = soup2.find(id='productTitle').get_text().strip()\n",
    "\n",
    "    price = soup2.find(class_ = 'a-offscreen').get_text()\n",
    "    price = price.strip()[1:]\n",
    "    \n",
    "    today = datetime.date.today()\n",
    "    \n",
    "    header = ['ProductTitle', 'Price', 'CollectionDate']\n",
    "    data = [title, price, today]\n",
    "    \n",
    "    with open('AmazonWebScraperDataset.csv', 'a+', newline='', encoding='UTF8') as f:\n",
    "        writer = csv.writer(f)\n",
    "        writer.writerow(data)\n",
    "        \n",
    "    if(price < 15):\n",
    "        send_mail()\n",
    "    \n",
    "    \n",
    "    "
   ]
  },
  {
   "cell_type": "code",
   "execution_count": 31,
   "id": "7744c56b",
   "metadata": {},
   "outputs": [
    {
     "ename": "KeyboardInterrupt",
     "evalue": "",
     "output_type": "error",
     "traceback": [
      "\u001b[1;31m---------------------------------------------------------------------------\u001b[0m",
      "\u001b[1;31mKeyboardInterrupt\u001b[0m                         Traceback (most recent call last)",
      "\u001b[1;32m~\\AppData\\Local\\Temp\\ipykernel_5976\\1121916375.py\u001b[0m in \u001b[0;36m<module>\u001b[1;34m\u001b[0m\n\u001b[0;32m      1\u001b[0m \u001b[1;32mwhile\u001b[0m\u001b[1;33m(\u001b[0m\u001b[1;32mTrue\u001b[0m\u001b[1;33m)\u001b[0m\u001b[1;33m:\u001b[0m\u001b[1;33m\u001b[0m\u001b[1;33m\u001b[0m\u001b[0m\n\u001b[0;32m      2\u001b[0m     \u001b[0mcheck_price\u001b[0m\u001b[1;33m(\u001b[0m\u001b[1;33m)\u001b[0m\u001b[1;33m\u001b[0m\u001b[1;33m\u001b[0m\u001b[0m\n\u001b[1;32m----> 3\u001b[1;33m     \u001b[0mtime\u001b[0m\u001b[1;33m.\u001b[0m\u001b[0msleep\u001b[0m\u001b[1;33m(\u001b[0m\u001b[1;36m5\u001b[0m\u001b[1;33m)\u001b[0m \u001b[1;31m# set time to check at 5 seconds\u001b[0m\u001b[1;33m\u001b[0m\u001b[1;33m\u001b[0m\u001b[0m\n\u001b[0m",
      "\u001b[1;31mKeyboardInterrupt\u001b[0m: "
     ]
    }
   ],
   "source": [
    "while(True):\n",
    "    check_price()\n",
    "    time.sleep(86400) # set time in seconds, initially try 5 seconds to test code"
   ]
  },
  {
   "cell_type": "code",
   "execution_count": 32,
   "id": "4fd1f52e",
   "metadata": {},
   "outputs": [
    {
     "name": "stdout",
     "output_type": "stream",
     "text": [
      "                                        ProductTitle  Price CollectionDate\n",
      "0  Funny Got Data MIS Data Systems Business Analy...  16.99     2022-10-27\n",
      "1  Funny Got Data MIS Data Systems Business Analy...  16.99     2022-10-28\n",
      "2  Funny Got Data MIS Data Systems Business Analy...  16.99     2022-10-28\n"
     ]
    }
   ],
   "source": [
    "df = pd.read_csv(r'C:\\Users\\benja\\AmazonWebScraperDataset.csv')\n",
    "\n",
    "print(df)"
   ]
  },
  {
   "cell_type": "code",
   "execution_count": null,
   "id": "2bc64b76",
   "metadata": {},
   "outputs": [],
   "source": [
    "# send email if price falls below a certain level\n",
    "\n",
    "def send_mail():\n",
    "    server = smtplib.SMTP_SSL('smtp.gmail.com',465)\n",
    "    server.ehlo()\n",
    "    #server.starttls()\n",
    "    server.ehlo()\n",
    "    server.login('my_email@gmail.com','email_password')\n",
    "    \n",
    "    subject = \"The Shirt you want is below $15! Now is your chance to buy!\"\n",
    "    body = \"Finally, a price drop. Now is your chance to pick up the shirt of your dreams. Act now! Link here: https://www.amazon.com/Funny-Data-Systems-Business-Analyst/dp/B07FNW9FGJ/ref=sr_1_3?dchild=1&keywords=data+analyst+tshirt&qid=1626655184&sr=8-3\"\n",
    "   \n",
    "    msg = f\"Subject: {subject}\\n\\n{body}\"\n",
    "    \n",
    "    server.sendmail(\n",
    "        'my_email@gmail.com',\n",
    "        msg\n",
    "     \n",
    "    )"
   ]
  }
 ],
 "metadata": {
  "kernelspec": {
   "display_name": "Python 3 (ipykernel)",
   "language": "python",
   "name": "python3"
  },
  "language_info": {
   "codemirror_mode": {
    "name": "ipython",
    "version": 3
   },
   "file_extension": ".py",
   "mimetype": "text/x-python",
   "name": "python",
   "nbconvert_exporter": "python",
   "pygments_lexer": "ipython3",
   "version": "3.9.13"
  }
 },
 "nbformat": 4,
 "nbformat_minor": 5
}
